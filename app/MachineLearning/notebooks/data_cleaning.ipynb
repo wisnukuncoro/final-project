{
 "cells": [
  {
   "cell_type": "code",
   "execution_count": 5,
   "metadata": {},
   "outputs": [],
   "source": [
    "import numpy as np\n",
    "import pandas as pd\n",
    "from sklearn.preprocessing import MinMaxScaler"
   ]
  },
  {
   "cell_type": "code",
   "execution_count": 6,
   "metadata": {},
   "outputs": [],
   "source": [
    "df = pd.read_csv('../data/dataset.csv')\n",
    "df['Tanggal'] = pd.to_datetime(df['Tanggal'])\n",
    "df.set_index('Tanggal', inplace=True)"
   ]
  },
  {
   "cell_type": "code",
   "execution_count": 7,
   "metadata": {},
   "outputs": [
    {
     "name": "stdout",
     "output_type": "stream",
     "text": [
      "<class 'pandas.core.frame.DataFrame'>\n",
      "DatetimeIndex: 1233 entries, 2021-03-01 to 2024-07-15\n",
      "Data columns (total 9 columns):\n",
      " #   Column                Non-Null Count  Dtype  \n",
      "---  ------                --------------  -----  \n",
      " 0   Bawang Merah          1185 non-null   float64\n",
      " 1   Bawang Putih          1185 non-null   float64\n",
      " 2   Cabai Merah Keriting  1185 non-null   float64\n",
      " 3   Cabai Rawit Merah     1185 non-null   float64\n",
      " 4   Daging Sapi           1185 non-null   float64\n",
      " 5   Daging Ayam           1185 non-null   float64\n",
      " 6   Telur Ayam            1185 non-null   float64\n",
      " 7   Beras                 1185 non-null   float64\n",
      " 8   Minyak Goreng         1185 non-null   float64\n",
      "dtypes: float64(9)\n",
      "memory usage: 96.3 KB\n"
     ]
    }
   ],
   "source": [
    "df.info()"
   ]
  },
  {
   "cell_type": "code",
   "execution_count": 8,
   "metadata": {},
   "outputs": [
    {
     "data": {
      "text/plain": [
       "Bawang Merah            48\n",
       "Bawang Putih            48\n",
       "Cabai Merah Keriting    48\n",
       "Cabai Rawit Merah       48\n",
       "Daging Sapi             48\n",
       "Daging Ayam             48\n",
       "Telur Ayam              48\n",
       "Beras                   48\n",
       "Minyak Goreng           48\n",
       "dtype: int64"
      ]
     },
     "execution_count": 8,
     "metadata": {},
     "output_type": "execute_result"
    }
   ],
   "source": [
    "df.isna().sum()"
   ]
  },
  {
   "cell_type": "code",
   "execution_count": 12,
   "metadata": {},
   "outputs": [],
   "source": [
    "# Menggunakan metode interpolasi untuk mengganti data bernilai NA\n",
    "\n",
    "df.interpolate(method='linear', inplace=True, limit_direction='both')"
   ]
  },
  {
   "cell_type": "code",
   "execution_count": 36,
   "metadata": {},
   "outputs": [
    {
     "data": {
      "text/plain": [
       "26990.0"
      ]
     },
     "execution_count": 36,
     "metadata": {},
     "output_type": "execute_result"
    }
   ],
   "source": [
    "tambah = (27310 + 26670) / 2\n",
    "tambah"
   ]
  },
  {
   "cell_type": "code",
   "execution_count": 35,
   "metadata": {},
   "outputs": [
    {
     "data": {
      "text/plain": [
       "27310.0"
      ]
     },
     "execution_count": 35,
     "metadata": {},
     "output_type": "execute_result"
    }
   ],
   "source": [
    "26670 + tambah * 2"
   ]
  },
  {
   "cell_type": "code",
   "execution_count": 13,
   "metadata": {},
   "outputs": [
    {
     "data": {
      "text/plain": [
       "Bawang Merah            0\n",
       "Bawang Putih            0\n",
       "Cabai Merah Keriting    0\n",
       "Cabai Rawit Merah       0\n",
       "Daging Sapi             0\n",
       "Daging Ayam             0\n",
       "Telur Ayam              0\n",
       "Beras                   0\n",
       "Minyak Goreng           0\n",
       "dtype: int64"
      ]
     },
     "execution_count": 13,
     "metadata": {},
     "output_type": "execute_result"
    }
   ],
   "source": [
    "# Melihat jumlah data bernilai kosong setelah metode interpolasi\n",
    "\n",
    "df.isna().sum()"
   ]
  },
  {
   "cell_type": "code",
   "execution_count": 14,
   "metadata": {},
   "outputs": [],
   "source": [
    "df.to_csv('../data/clean_dataset.csv', index=False)\n"
   ]
  }
 ],
 "metadata": {
  "kernelspec": {
   "display_name": ".venv",
   "language": "python",
   "name": "python3"
  },
  "language_info": {
   "codemirror_mode": {
    "name": "ipython",
    "version": 3
   },
   "file_extension": ".py",
   "mimetype": "text/x-python",
   "name": "python",
   "nbconvert_exporter": "python",
   "pygments_lexer": "ipython3",
   "version": "3.10.6"
  }
 },
 "nbformat": 4,
 "nbformat_minor": 2
}
