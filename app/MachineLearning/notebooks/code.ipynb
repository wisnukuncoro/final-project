{
  "cells": [
    {
      "cell_type": "code",
      "execution_count": 1,
      "metadata": {},
      "outputs": [],
      "source": [
        "import numpy as np\n",
        "import pandas as pd\n",
        "import matplotlib.pyplot as plt\n",
        "import tensorflow as tf\n",
        "from tensorflow.keras.models import Sequential\n",
        "from tensorflow.keras.layers import Input, Dense, LSTM, Dropout\n",
        "from sklearn.preprocessing import MinMaxScaler"
      ]
    },
    {
      "cell_type": "code",
      "execution_count": 2,
      "metadata": {
        "id": "No8nB9jXleIo"
      },
      "outputs": [],
      "source": [
        "df = pd.read_csv('dataset.csv')\n",
        "df['Tanggal'] = pd.to_datetime(df['Tanggal'])\n",
        "df.set_index('Tanggal', inplace=True)"
      ]
    },
    {
      "cell_type": "code",
      "execution_count": 3,
      "metadata": {},
      "outputs": [
        {
          "name": "stdout",
          "output_type": "stream",
          "text": [
            "<class 'pandas.core.frame.DataFrame'>\n",
            "DatetimeIndex: 1233 entries, 2021-03-01 to 2024-07-15\n",
            "Data columns (total 9 columns):\n",
            " #   Column                Non-Null Count  Dtype  \n",
            "---  ------                --------------  -----  \n",
            " 0   Bawang Merah          1185 non-null   float64\n",
            " 1   Bawang Putih          1185 non-null   float64\n",
            " 2   Cabai Merah Keriting  1185 non-null   float64\n",
            " 3   Cabai Rawit Merah     1185 non-null   float64\n",
            " 4   Daging Sapi           1185 non-null   float64\n",
            " 5   Daging Ayam           1185 non-null   float64\n",
            " 6   Telur Ayam            1185 non-null   float64\n",
            " 7   Beras                 1185 non-null   float64\n",
            " 8   Minyak Goreng         1185 non-null   float64\n",
            "dtypes: float64(9)\n",
            "memory usage: 96.3 KB\n"
          ]
        }
      ],
      "source": [
        "df.info()"
      ]
    },
    {
      "cell_type": "code",
      "execution_count": 4,
      "metadata": {
        "colab": {
          "base_uri": "https://localhost:8080/"
        },
        "id": "U7tperLSdR0a",
        "outputId": "f96864c4-2bd6-40d3-fc88-d5c32850a526"
      },
      "outputs": [
        {
          "data": {
            "text/plain": [
              "Bawang Merah            48\n",
              "Bawang Putih            48\n",
              "Cabai Merah Keriting    48\n",
              "Cabai Rawit Merah       48\n",
              "Daging Sapi             48\n",
              "Daging Ayam             48\n",
              "Telur Ayam              48\n",
              "Beras                   48\n",
              "Minyak Goreng           48\n",
              "dtype: int64"
            ]
          },
          "execution_count": 4,
          "metadata": {},
          "output_type": "execute_result"
        }
      ],
      "source": [
        "df.isna().sum()"
      ]
    },
    {
      "cell_type": "code",
      "execution_count": 19,
      "metadata": {
        "colab": {
          "base_uri": "https://localhost:8080/",
          "height": 310
        },
        "id": "XFH1THiAZv-I",
        "outputId": "3fe15d60-6dfb-4c67-d948-8d2da10bc06e"
      },
      "outputs": [
        {
          "data": {
            "text/html": [
              "<div>\n",
              "<style scoped>\n",
              "    .dataframe tbody tr th:only-of-type {\n",
              "        vertical-align: middle;\n",
              "    }\n",
              "\n",
              "    .dataframe tbody tr th {\n",
              "        vertical-align: top;\n",
              "    }\n",
              "\n",
              "    .dataframe thead th {\n",
              "        text-align: right;\n",
              "    }\n",
              "</style>\n",
              "<table border=\"1\" class=\"dataframe\">\n",
              "  <thead>\n",
              "    <tr style=\"text-align: right;\">\n",
              "      <th></th>\n",
              "      <th>Bawang Merah</th>\n",
              "      <th>Bawang Putih</th>\n",
              "      <th>Cabai Merah Keriting</th>\n",
              "      <th>Cabai Rawit Merah</th>\n",
              "      <th>Daging Sapi</th>\n",
              "      <th>Daging Ayam</th>\n",
              "      <th>Telur Ayam</th>\n",
              "      <th>Beras</th>\n",
              "      <th>Minyak Goreng</th>\n",
              "    </tr>\n",
              "    <tr>\n",
              "      <th>Tanggal</th>\n",
              "      <th></th>\n",
              "      <th></th>\n",
              "      <th></th>\n",
              "      <th></th>\n",
              "      <th></th>\n",
              "      <th></th>\n",
              "      <th></th>\n",
              "      <th></th>\n",
              "      <th></th>\n",
              "    </tr>\n",
              "  </thead>\n",
              "  <tbody>\n",
              "    <tr>\n",
              "      <th>2021-03-01</th>\n",
              "      <td>NaN</td>\n",
              "      <td>NaN</td>\n",
              "      <td>NaN</td>\n",
              "      <td>NaN</td>\n",
              "      <td>NaN</td>\n",
              "      <td>NaN</td>\n",
              "      <td>NaN</td>\n",
              "      <td>NaN</td>\n",
              "      <td>NaN</td>\n",
              "    </tr>\n",
              "    <tr>\n",
              "      <th>2021-03-02</th>\n",
              "      <td>NaN</td>\n",
              "      <td>NaN</td>\n",
              "      <td>NaN</td>\n",
              "      <td>NaN</td>\n",
              "      <td>NaN</td>\n",
              "      <td>NaN</td>\n",
              "      <td>NaN</td>\n",
              "      <td>NaN</td>\n",
              "      <td>NaN</td>\n",
              "    </tr>\n",
              "    <tr>\n",
              "      <th>2021-03-03</th>\n",
              "      <td>NaN</td>\n",
              "      <td>NaN</td>\n",
              "      <td>NaN</td>\n",
              "      <td>NaN</td>\n",
              "      <td>NaN</td>\n",
              "      <td>NaN</td>\n",
              "      <td>NaN</td>\n",
              "      <td>NaN</td>\n",
              "      <td>NaN</td>\n",
              "    </tr>\n",
              "    <tr>\n",
              "      <th>2021-03-04</th>\n",
              "      <td>NaN</td>\n",
              "      <td>NaN</td>\n",
              "      <td>NaN</td>\n",
              "      <td>NaN</td>\n",
              "      <td>NaN</td>\n",
              "      <td>NaN</td>\n",
              "      <td>NaN</td>\n",
              "      <td>NaN</td>\n",
              "      <td>NaN</td>\n",
              "    </tr>\n",
              "    <tr>\n",
              "      <th>2021-03-05</th>\n",
              "      <td>NaN</td>\n",
              "      <td>NaN</td>\n",
              "      <td>NaN</td>\n",
              "      <td>NaN</td>\n",
              "      <td>NaN</td>\n",
              "      <td>NaN</td>\n",
              "      <td>NaN</td>\n",
              "      <td>NaN</td>\n",
              "      <td>NaN</td>\n",
              "    </tr>\n",
              "    <tr>\n",
              "      <th>...</th>\n",
              "      <td>...</td>\n",
              "      <td>...</td>\n",
              "      <td>...</td>\n",
              "      <td>...</td>\n",
              "      <td>...</td>\n",
              "      <td>...</td>\n",
              "      <td>...</td>\n",
              "      <td>...</td>\n",
              "      <td>...</td>\n",
              "    </tr>\n",
              "    <tr>\n",
              "      <th>2024-07-11</th>\n",
              "      <td>30520.0</td>\n",
              "      <td>40430.0</td>\n",
              "      <td>43430.0</td>\n",
              "      <td>46210.0</td>\n",
              "      <td>134870.0</td>\n",
              "      <td>38010.0</td>\n",
              "      <td>27490.0</td>\n",
              "      <td>15160.0</td>\n",
              "      <td>17170.0</td>\n",
              "    </tr>\n",
              "    <tr>\n",
              "      <th>2024-07-12</th>\n",
              "      <td>30750.0</td>\n",
              "      <td>39480.0</td>\n",
              "      <td>41030.0</td>\n",
              "      <td>49340.0</td>\n",
              "      <td>134550.0</td>\n",
              "      <td>37620.0</td>\n",
              "      <td>27720.0</td>\n",
              "      <td>15020.0</td>\n",
              "      <td>16850.0</td>\n",
              "    </tr>\n",
              "    <tr>\n",
              "      <th>2024-07-13</th>\n",
              "      <td>30680.0</td>\n",
              "      <td>39530.0</td>\n",
              "      <td>39610.0</td>\n",
              "      <td>52780.0</td>\n",
              "      <td>135400.0</td>\n",
              "      <td>37290.0</td>\n",
              "      <td>27720.0</td>\n",
              "      <td>15200.0</td>\n",
              "      <td>16980.0</td>\n",
              "    </tr>\n",
              "    <tr>\n",
              "      <th>2024-07-14</th>\n",
              "      <td>30060.0</td>\n",
              "      <td>38420.0</td>\n",
              "      <td>39770.0</td>\n",
              "      <td>54680.0</td>\n",
              "      <td>134470.0</td>\n",
              "      <td>37840.0</td>\n",
              "      <td>27770.0</td>\n",
              "      <td>14930.0</td>\n",
              "      <td>16750.0</td>\n",
              "    </tr>\n",
              "    <tr>\n",
              "      <th>2024-07-15</th>\n",
              "      <td>29970.0</td>\n",
              "      <td>39910.0</td>\n",
              "      <td>41410.0</td>\n",
              "      <td>58930.0</td>\n",
              "      <td>134940.0</td>\n",
              "      <td>38020.0</td>\n",
              "      <td>27960.0</td>\n",
              "      <td>14940.0</td>\n",
              "      <td>16640.0</td>\n",
              "    </tr>\n",
              "  </tbody>\n",
              "</table>\n",
              "<p>1233 rows × 9 columns</p>\n",
              "</div>"
            ],
            "text/plain": [
              "            Bawang Merah  Bawang Putih  Cabai Merah Keriting  \\\n",
              "Tanggal                                                        \n",
              "2021-03-01           NaN           NaN                   NaN   \n",
              "2021-03-02           NaN           NaN                   NaN   \n",
              "2021-03-03           NaN           NaN                   NaN   \n",
              "2021-03-04           NaN           NaN                   NaN   \n",
              "2021-03-05           NaN           NaN                   NaN   \n",
              "...                  ...           ...                   ...   \n",
              "2024-07-11       30520.0       40430.0               43430.0   \n",
              "2024-07-12       30750.0       39480.0               41030.0   \n",
              "2024-07-13       30680.0       39530.0               39610.0   \n",
              "2024-07-14       30060.0       38420.0               39770.0   \n",
              "2024-07-15       29970.0       39910.0               41410.0   \n",
              "\n",
              "            Cabai Rawit Merah  Daging Sapi  Daging Ayam  Telur Ayam    Beras  \\\n",
              "Tanggal                                                                        \n",
              "2021-03-01                NaN          NaN          NaN         NaN      NaN   \n",
              "2021-03-02                NaN          NaN          NaN         NaN      NaN   \n",
              "2021-03-03                NaN          NaN          NaN         NaN      NaN   \n",
              "2021-03-04                NaN          NaN          NaN         NaN      NaN   \n",
              "2021-03-05                NaN          NaN          NaN         NaN      NaN   \n",
              "...                       ...          ...          ...         ...      ...   \n",
              "2024-07-11            46210.0     134870.0      38010.0     27490.0  15160.0   \n",
              "2024-07-12            49340.0     134550.0      37620.0     27720.0  15020.0   \n",
              "2024-07-13            52780.0     135400.0      37290.0     27720.0  15200.0   \n",
              "2024-07-14            54680.0     134470.0      37840.0     27770.0  14930.0   \n",
              "2024-07-15            58930.0     134940.0      38020.0     27960.0  14940.0   \n",
              "\n",
              "            Minyak Goreng  \n",
              "Tanggal                    \n",
              "2021-03-01            NaN  \n",
              "2021-03-02            NaN  \n",
              "2021-03-03            NaN  \n",
              "2021-03-04            NaN  \n",
              "2021-03-05            NaN  \n",
              "...                   ...  \n",
              "2024-07-11        17170.0  \n",
              "2024-07-12        16850.0  \n",
              "2024-07-13        16980.0  \n",
              "2024-07-14        16750.0  \n",
              "2024-07-15        16640.0  \n",
              "\n",
              "[1233 rows x 9 columns]"
            ]
          },
          "execution_count": 19,
          "metadata": {},
          "output_type": "execute_result"
        }
      ],
      "source": [
        "df"
      ]
    },
    {
      "cell_type": "code",
      "execution_count": 182,
      "metadata": {},
      "outputs": [
        {
          "data": {
            "image/png": "[encoded data removed]",
            "text/plain": [
              "<Figure size 2000x500 with 1 Axes>"
            ]
          },
          "metadata": {},
          "output_type": "display_data"
        }
      ],
      "source": [
        "plt.figure(figsize=[20,5])\n",
        "plt.scatter(df.index, df['Bawang Merah'])\n",
        "plt.title('Pola Data Harga Bawang Merah', pad=30)\n",
        "plt.xlabel('Waktu', labelpad=30)\n",
        "plt.ylabel('Harga (Rupiah)', labelpad=30)\n",
        "plt.yticks([0, 10000, 20000, 30000, 40000, 50000, 60000, 70000, 80000])\n",
        "plt.show()"
      ]
    },
    {
      "cell_type": "code",
      "execution_count": null,
      "metadata": {},
      "outputs": [],
      "source": [
        "plt.figure(figsize=[20,5])\n",
        "plt.scatter(df.index, df['Bawang Putih'])\n",
        "plt.title('Pola Data Harga Bawang Putih', pad=30)\n",
        "plt.xlabel('Waktu', labelpad=30)\n",
        "plt.ylabel('Harga (Rupiah)', labelpad=30)\n",
        "plt.yticks([0, 10000, 20000, 30000, 40000, 50000, 60000])\n",
        "plt.show()"
      ]
    },
    {
      "cell_type": "code",
      "execution_count": null,
      "metadata": {},
      "outputs": [],
      "source": [
        "plt.figure(figsize=[20,5])\n",
        "plt.scatter(df.index, df['Cabai Merah Keriting'])\n",
        "plt.title('Pola Data Harga Cabai Merah Keriting', pad=30)\n",
        "plt.xlabel('Waktu', labelpad=30)\n",
        "plt.ylabel('Harga (Rupiah)', labelpad=30)\n",
        "plt.yticks([0, 20000, 40000, 60000, 80000, 100000, 120000])\n",
        "plt.show()"
      ]
    },
    {
      "cell_type": "code",
      "execution_count": null,
      "metadata": {},
      "outputs": [],
      "source": [
        "plt.figure(figsize=[20,5])\n",
        "plt.scatter(df.index, df['Cabai Rawit Merah'])\n",
        "plt.title('Pola Data Harga Cabai Rawit Merah', pad=30)\n",
        "plt.xlabel('Waktu', labelpad=30)\n",
        "plt.ylabel('Harga (Rupiah)', labelpad=30)\n",
        "plt.yticks([0, 20000, 40000, 60000, 80000, 100000, 120000, 140000])\n",
        "plt.show()"
      ]
    },
    {
      "cell_type": "code",
      "execution_count": null,
      "metadata": {},
      "outputs": [],
      "source": [
        "plt.figure(figsize=[20,5])\n",
        "plt.scatter(df.index, df['Daging Sapi'])\n",
        "plt.title('Pola Data Harga Daging Sapi', pad=30)\n",
        "plt.xlabel('Waktu', labelpad=30)\n",
        "plt.ylabel('Harga (Rupiah)', labelpad=30)\n",
        "plt.yticks([100000, 120000, 140000, 160000, 180000])\n",
        "plt.show()"
      ]
    },
    {
      "cell_type": "code",
      "execution_count": null,
      "metadata": {},
      "outputs": [],
      "source": [
        "plt.figure(figsize=[20,5])\n",
        "plt.scatter(df.index, df['Daging Ayam'])\n",
        "plt.title('Pola Data Harga Daging Ayam', pad=30)\n",
        "plt.xlabel('Waktu', labelpad=30)\n",
        "plt.ylabel('Harga (Rupiah)', labelpad=30)\n",
        "plt.yticks([20000, 30000, 40000, 50000, 60000])\n",
        "plt.show()"
      ]
    },
    {
      "cell_type": "code",
      "execution_count": null,
      "metadata": {},
      "outputs": [],
      "source": [
        "plt.figure(figsize=[20,5])\n",
        "plt.scatter(df.index, df['Telur Ayam'])\n",
        "plt.title('Pola Data Harga Telur Ayam', pad=30)\n",
        "plt.xlabel('Waktu', labelpad=30)\n",
        "plt.ylabel('Harga (Rupiah)', labelpad=30)\n",
        "plt.yticks([10000, 15000, 20000, 25000, 30000, 35000, 40000])\n",
        "plt.show()"
      ]
    },
    {
      "cell_type": "code",
      "execution_count": null,
      "metadata": {},
      "outputs": [],
      "source": [
        "plt.figure(figsize=[20,5])\n",
        "plt.scatter(df.index, df['Beras'])\n",
        "plt.title('Pola Data Harga Beras', pad=30)\n",
        "plt.xlabel('Waktu', labelpad=30)\n",
        "plt.ylabel('Harga (Rupiah)', labelpad=30)\n",
        "plt.yticks([8000, 9000, 10000, 11000, 12000, 13000, 14000, 15000, 16000, 17000, 18000, 19000, 20000])\n",
        "plt.show()"
      ]
    },
    {
      "cell_type": "code",
      "execution_count": null,
      "metadata": {},
      "outputs": [],
      "source": [
        "plt.figure(figsize=[20,5])\n",
        "plt.scatter(df.index, df['Minyak Goreng'])\n",
        "plt.title('Pola Data Harga Minyak Goreng', pad=30)\n",
        "plt.xlabel('Waktu', labelpad=30)\n",
        "plt.ylabel('Harga (Rupiah)', labelpad=30)\n",
        "plt.yticks([10000, 12000, 14000, 16000, 18000, 20000, 22000, 24000, 26000])\n",
        "plt.show()"
      ]
    },
    {
      "cell_type": "code",
      "execution_count": null,
      "metadata": {
        "id": "p05PhzV0xU44"
      },
      "outputs": [],
      "source": [
        "# # Menghitung batas atas dan bawah untuk setiap fitur\n",
        "\n",
        "# maximum = {}\n",
        "# minimum = {}\n",
        "\n",
        "# def calculateMaxMin(data):\n",
        "#   for i in range(1, df.shape[1]):\n",
        "#     Q1 = (data.iloc[:,i]).quantile(0.25)\n",
        "#     Q3 = (data.iloc[:,i]).quantile(0.75)\n",
        "#     IQR = Q3 - Q1\n",
        "\n",
        "#     maximum[data.iloc[:,i].name] = Q3 + (1.5*IQR)\n",
        "#     minimum[data.iloc[:,i].name] = Q1 - (1.5*IQR)\n",
        "\n",
        "# calculateMaxMin(df)"
      ]
    },
    {
      "cell_type": "code",
      "execution_count": null,
      "metadata": {
        "colab": {
          "base_uri": "https://localhost:8080/"
        },
        "id": "pl4iQzYL7-Ik",
        "outputId": "b2fd8024-e7b0-47da-c999-c5e1d2095b28"
      },
      "outputs": [
        {
          "data": {
            "text/plain": [
              "{'GKP Tingkat Petani': 2775.0,\n",
              " 'GKP Tingkat Penggilingan': 2620.0,\n",
              " 'GKG Tingkat Penggilingan': 3225.0,\n",
              " 'Beras Premium Penggilingan': 6500.0,\n",
              " 'Beras Premium Grosir': 8910.0,\n",
              " 'Beras Premium Eceran': 9110.0}"
            ]
          },
          "execution_count": 7,
          "metadata": {},
          "output_type": "execute_result"
        }
      ],
      "source": [
        "# minimum"
      ]
    },
    {
      "cell_type": "code",
      "execution_count": null,
      "metadata": {
        "colab": {
          "base_uri": "https://localhost:8080/"
        },
        "id": "p5uyILojFlwT",
        "outputId": "5efe69af-0ae6-4fe7-fe09-ef19151c4608"
      },
      "outputs": [
        {
          "data": {
            "text/plain": [
              "{'GKP Tingkat Petani': 6335.0,\n",
              " 'GKP Tingkat Penggilingan': 7180.0,\n",
              " 'GKG Tingkat Penggilingan': 7665.0,\n",
              " 'Beras Premium Penggilingan': 13940.0,\n",
              " 'Beras Premium Grosir': 13230.0,\n",
              " 'Beras Premium Eceran': 14870.0}"
            ]
          },
          "execution_count": 8,
          "metadata": {},
          "output_type": "execute_result"
        }
      ],
      "source": [
        "# maximum"
      ]
    },
    {
      "cell_type": "code",
      "execution_count": null,
      "metadata": {
        "id": "bqjLg5ao6JAS"
      },
      "outputs": [],
      "source": [
        "# def deleteOutliers(data):\n",
        "#   for i in range(1, df.shape[1]):\n",
        "#     outliersLowerThan = data.iloc[:,i] < minimum[data.iloc[:,i].name]\n",
        "#     outliersMoreThan = data.iloc[:,i] > maximum[data.iloc[:,i].name]\n",
        "\n",
        "#     data.mask(outliersLowerThan, np.nan, inplace=True)\n",
        "#     data.mask(outliersMoreThan, np.nan, inplace=True)\n",
        "\n",
        "# deleteOutliers(df)"
      ]
    },
    {
      "cell_type": "code",
      "execution_count": 5,
      "metadata": {
        "id": "_JJqMY4bC2tr"
      },
      "outputs": [],
      "source": [
        "# Menggunakan metode interpolasi untuk mengganti data bernilai NA\n",
        "\n",
        "df.interpolate(method='linear', inplace=True, limit_direction='both')"
      ]
    },
    {
      "cell_type": "code",
      "execution_count": 6,
      "metadata": {
        "colab": {
          "base_uri": "https://localhost:8080/"
        },
        "id": "OZigRKwwJruY",
        "outputId": "bef92cc9-ff30-4243-eb2f-32184cd6973b"
      },
      "outputs": [
        {
          "data": {
            "text/plain": [
              "Bawang Merah            0\n",
              "Bawang Putih            0\n",
              "Cabai Merah Keriting    0\n",
              "Cabai Rawit Merah       0\n",
              "Daging Sapi             0\n",
              "Daging Ayam             0\n",
              "Telur Ayam              0\n",
              "Beras                   0\n",
              "Minyak Goreng           0\n",
              "dtype: int64"
            ]
          },
          "execution_count": 6,
          "metadata": {},
          "output_type": "execute_result"
        }
      ],
      "source": [
        "# Melihat jumlah data bernilai kosong setelah metode interpolasi\n",
        "\n",
        "df.isna().sum()"
      ]
    },
    {
      "cell_type": "code",
      "execution_count": 7,
      "metadata": {
        "id": "rzJmxxDIjOO-"
      },
      "outputs": [],
      "source": [
        "scaler = MinMaxScaler(feature_range=(0,1))\n",
        "df_scaled = scaler.fit_transform(df)"
      ]
    },
    {
      "cell_type": "code",
      "execution_count": 24,
      "metadata": {},
      "outputs": [],
      "source": [
        "import pickle"
      ]
    },
    {
      "cell_type": "code",
      "execution_count": 33,
      "metadata": {},
      "outputs": [],
      "source": [
        "# Simpan scaler ke file\n",
        "with open('scaler.pkl', 'wb') as file:\n",
        "    pickle.dump(scaler, file)"
      ]
    },
    {
      "cell_type": "code",
      "execution_count": 24,
      "metadata": {},
      "outputs": [
        {
          "data": {
            "text/plain": [
              "array([[0.39023364, 0.30184805, 0.39807692, ..., 0.26062847, 0.18275862,\n",
              "        0.0653951 ],\n",
              "       [0.39023364, 0.30184805, 0.39807692, ..., 0.26062847, 0.18275862,\n",
              "        0.0653951 ],\n",
              "       [0.39023364, 0.30184805, 0.39807692, ..., 0.26062847, 0.18275862,\n",
              "        0.0653951 ],\n",
              "       ...,\n",
              "       [0.19406441, 0.77535934, 0.23365385, ..., 0.43253235, 0.73448276,\n",
              "        0.38147139],\n",
              "       [0.18101452, 0.72977413, 0.23536325, ..., 0.43484288, 0.68793103,\n",
              "        0.36058129],\n",
              "       [0.17912019, 0.79096509, 0.25288462, ..., 0.44362292, 0.68965517,\n",
              "        0.35059037]])"
            ]
          },
          "execution_count": 24,
          "metadata": {},
          "output_type": "execute_result"
        }
      ],
      "source": [
        "df_scaled"
      ]
    },
    {
      "cell_type": "code",
      "execution_count": 8,
      "metadata": {
        "id": "EAMpfBzqlRKg"
      },
      "outputs": [],
      "source": [
        "train_split = round(len(df)*0.80) \n",
        "test_split = round(len(df)*0.10)\n",
        "\n",
        "df_training = df_scaled[:train_split]\n",
        "df_val = df_scaled[train_split:-test_split]\n",
        "df_testing = df_scaled[-test_split:]"
      ]
    },
    {
      "cell_type": "code",
      "execution_count": 9,
      "metadata": {},
      "outputs": [
        {
          "data": {
            "text/plain": [
              "(123, 9)"
            ]
          },
          "execution_count": 9,
          "metadata": {},
          "output_type": "execute_result"
        }
      ],
      "source": [
        "df_testing.shape"
      ]
    },
    {
      "cell_type": "code",
      "execution_count": null,
      "metadata": {},
      "outputs": [],
      "source": []
    },
    {
      "cell_type": "code",
      "execution_count": 10,
      "metadata": {
        "colab": {
          "base_uri": "https://localhost:8080/"
        },
        "id": "zctEtnE0kNJk",
        "outputId": "a6a5eab4-310b-4943-f4b8-11de794510a2"
      },
      "outputs": [
        {
          "data": {
            "text/plain": [
              "(986, 9)"
            ]
          },
          "execution_count": 10,
          "metadata": {},
          "output_type": "execute_result"
        }
      ],
      "source": [
        "df_training.shape"
      ]
    },
    {
      "cell_type": "code",
      "execution_count": 69,
      "metadata": {
        "id": "D5dLjOLvkmNt"
      },
      "outputs": [],
      "source": [
        "def createXY(data, n_past, n_future):\n",
        "  dataX = []\n",
        "  dataY = []\n",
        "  for i in range(n_past, len(data)):\n",
        "    dataX.append(data[i - n_past:i])\n",
        "    dataY.append(data[i,0])\n",
        "  return np.array(dataX),np.array(dataY)\n",
        "\n",
        "trainX, trainY=createXY(df_training, 10, 41)\n",
        "testX, testY=createXY(df_testing, 10, 41)\n",
        "valX, valY = createXY(df_val, 10, 41)"
      ]
    },
    {
      "cell_type": "code",
      "execution_count": 31,
      "metadata": {},
      "outputs": [],
      "source": [
        "def createXY(data, n_past):\n",
        "  dataX = []\n",
        "  dataY = []\n",
        "  for i in range(n_past, len(data)):\n",
        "    dataX.append(data[i - n_past:i,1])\n",
        "    dataY.append(data[i,1])\n",
        "  return np.array(dataX),np.array(dataY)\n",
        "\n",
        "trainX, trainY=createXY(df_training, 30)\n",
        "testX, testY=createXY(df_testing, 30)\n",
        "valX, valY = createXY(df_val, 30)"
      ]
    },
    {
      "cell_type": "code",
      "execution_count": 32,
      "metadata": {},
      "outputs": [
        {
          "data": {
            "text/plain": [
              "(956, 30)"
            ]
          },
          "execution_count": 32,
          "metadata": {},
          "output_type": "execute_result"
        }
      ],
      "source": [
        "trainX.shape"
      ]
    },
    {
      "cell_type": "code",
      "execution_count": 33,
      "metadata": {},
      "outputs": [],
      "source": [
        "def reshapeData(dataX):\n",
        "  dataX = dataX.reshape((dataX.shape[0], dataX.shape[1], 1))\n",
        "  return dataX\n",
        "\n",
        "trainX = reshapeData(trainX)\n",
        "testX = reshapeData(testX)\n",
        "valX = reshapeData(valX)"
      ]
    },
    {
      "cell_type": "code",
      "execution_count": 34,
      "metadata": {},
      "outputs": [
        {
          "data": {
            "text/plain": [
              "(94, 30, 1)"
            ]
          },
          "execution_count": 34,
          "metadata": {},
          "output_type": "execute_result"
        }
      ],
      "source": [
        "valX.shape"
      ]
    },
    {
      "cell_type": "code",
      "execution_count": null,
      "metadata": {},
      "outputs": [],
      "source": []
    },
    {
      "cell_type": "code",
      "execution_count": 35,
      "metadata": {
        "id": "3eR2_wxPp0if"
      },
      "outputs": [
        {
          "data": {
            "text/plain": [
              "(30, 1)"
            ]
          },
          "execution_count": 35,
          "metadata": {},
          "output_type": "execute_result"
        }
      ],
      "source": [
        "input_shape = trainX[0].shape\n",
        "input_shape"
      ]
    },
    {
      "cell_type": "code",
      "execution_count": 16,
      "metadata": {},
      "outputs": [],
      "source": [
        "from tensorflow.keras.optimizers import Adam"
      ]
    },
    {
      "cell_type": "code",
      "execution_count": 52,
      "metadata": {
        "colab": {
          "base_uri": "https://localhost:8080/"
        },
        "id": "a7TZ1Vlksz_4",
        "outputId": "17e0078d-cf36-4c79-cdea-fff4a406c975"
      },
      "outputs": [
        {
          "name": "stdout",
          "output_type": "stream",
          "text": [
            "Epoch 1/10\n",
            "\u001b[1m30/30\u001b[0m \u001b[32m━━━━━━━━━━━━━━━━━━━━\u001b[0m\u001b[37m\u001b[0m \u001b[1m5s\u001b[0m 73ms/step - accuracy: 0.0000e+00 - loss: 0.0328 - val_accuracy: 0.0000e+00 - val_loss: 0.0014\n",
            "Epoch 2/10\n",
            "\u001b[1m30/30\u001b[0m \u001b[32m━━━━━━━━━━━━━━━━━━━━\u001b[0m\u001b[37m\u001b[0m \u001b[1m2s\u001b[0m 68ms/step - accuracy: 0.0000e+00 - loss: 0.0014 - val_accuracy: 0.0000e+00 - val_loss: 0.0011\n",
            "Epoch 3/10\n",
            "\u001b[1m30/30\u001b[0m \u001b[32m━━━━━━━━━━━━━━━━━━━━\u001b[0m\u001b[37m\u001b[0m \u001b[1m2s\u001b[0m 59ms/step - accuracy: 0.0000e+00 - loss: 0.0015 - val_accuracy: 0.0000e+00 - val_loss: 0.0015\n",
            "Epoch 4/10\n",
            "\u001b[1m30/30\u001b[0m \u001b[32m━━━━━━━━━━━━━━━━━━━━\u001b[0m\u001b[37m\u001b[0m \u001b[1m2s\u001b[0m 62ms/step - accuracy: 0.0000e+00 - loss: 0.0012 - val_accuracy: 0.0000e+00 - val_loss: 6.9092e-04\n",
            "Epoch 5/10\n",
            "\u001b[1m30/30\u001b[0m \u001b[32m━━━━━━━━━━━━━━━━━━━━\u001b[0m\u001b[37m\u001b[0m \u001b[1m2s\u001b[0m 62ms/step - accuracy: 0.0000e+00 - loss: 0.0013 - val_accuracy: 0.0000e+00 - val_loss: 0.0029\n",
            "Epoch 6/10\n",
            "\u001b[1m30/30\u001b[0m \u001b[32m━━━━━━━━━━━━━━━━━━━━\u001b[0m\u001b[37m\u001b[0m \u001b[1m2s\u001b[0m 66ms/step - accuracy: 0.0000e+00 - loss: 0.0015 - val_accuracy: 0.0000e+00 - val_loss: 6.8105e-04\n",
            "Epoch 7/10\n",
            "\u001b[1m30/30\u001b[0m \u001b[32m━━━━━━━━━━━━━━━━━━━━\u001b[0m\u001b[37m\u001b[0m \u001b[1m3s\u001b[0m 62ms/step - accuracy: 0.0000e+00 - loss: 0.0012 - val_accuracy: 0.0000e+00 - val_loss: 0.0014\n",
            "Epoch 8/10\n",
            "\u001b[1m30/30\u001b[0m \u001b[32m━━━━━━━━━━━━━━━━━━━━\u001b[0m\u001b[37m\u001b[0m \u001b[1m2s\u001b[0m 72ms/step - accuracy: 0.0000e+00 - loss: 0.0012 - val_accuracy: 0.0000e+00 - val_loss: 0.0010\n",
            "Epoch 9/10\n",
            "\u001b[1m30/30\u001b[0m \u001b[32m━━━━━━━━━━━━━━━━━━━━\u001b[0m\u001b[37m\u001b[0m \u001b[1m2s\u001b[0m 65ms/step - accuracy: 0.0000e+00 - loss: 0.0012 - val_accuracy: 0.0000e+00 - val_loss: 8.3501e-04\n",
            "Epoch 10/10\n",
            "\u001b[1m30/30\u001b[0m \u001b[32m━━━━━━━━━━━━━━━━━━━━\u001b[0m\u001b[37m\u001b[0m \u001b[1m3s\u001b[0m 62ms/step - accuracy: 0.0000e+00 - loss: 0.0012 - val_accuracy: 0.0000e+00 - val_loss: 6.6050e-04\n",
            "\u001b[1m3/3\u001b[0m \u001b[32m━━━━━━━━━━━━━━━━━━━━\u001b[0m\u001b[37m\u001b[0m \u001b[1m0s\u001b[0m 119ms/step\n",
            "Loss: 0.001625470055192928\n"
          ]
        }
      ],
      "source": [
        "# Build the LSTM model\n",
        "model = tf.keras.models.Sequential([\n",
        "  tf.keras.layers.LSTM(units=256),\n",
        "  tf.keras.layers.Dropout(0.2),\n",
        "  tf.keras.layers.Dense(units=1),\n",
        "])\n",
        "model.compile(optimizer='adam', loss='mean_squared_error', metrics=[tf.keras.metrics.Accuracy()])\n",
        "\n",
        "# Train the model with train set and validation set\n",
        "model.fit(trainX, trainY, epochs=10, batch_size=32, validation_data=(valX, valY))\n",
        "# Predict on the test set\n",
        "predictions = model.predict(testX)\n",
        "\n",
        "# Evaluate the model\n",
        "mse = np.mean((predictions - testY) ** 2)\n",
        "print(\"Loss:\", mse)"
      ]
    },
    {
      "cell_type": "code",
      "execution_count": null,
      "metadata": {},
      "outputs": [],
      "source": []
    },
    {
      "cell_type": "code",
      "execution_count": 112,
      "metadata": {},
      "outputs": [
        {
          "name": "stdout",
          "output_type": "stream",
          "text": [
            "Model: \"sequential_19\"\n",
            "_________________________________________________________________\n",
            " Layer (type)                Output Shape              Param #   \n",
            "=================================================================\n",
            " lstm_27 (LSTM)              (None, 10, 256)           264192    \n",
            "                                                                 \n",
            " dropout_17 (Dropout)        (None, 10, 256)           0         \n",
            "                                                                 \n",
            " lstm_28 (LSTM)              (None, 10, 256)           525312    \n",
            "                                                                 \n",
            " dropout_18 (Dropout)        (None, 10, 256)           0         \n",
            "                                                                 \n",
            " lstm_29 (LSTM)              (None, 256)               525312    \n",
            "                                                                 \n",
            " dense_19 (Dense)            (None, 1)                 257       \n",
            "                                                                 \n",
            "=================================================================\n",
            "Total params: 1315073 (5.02 MB)\n",
            "Trainable params: 1315073 (5.02 MB)\n",
            "Non-trainable params: 0 (0.00 Byte)\n",
            "_________________________________________________________________\n"
          ]
        }
      ],
      "source": [
        "model.summary()"
      ]
    },
    {
      "cell_type": "code",
      "execution_count": 44,
      "metadata": {},
      "outputs": [
        {
          "name": "stderr",
          "output_type": "stream",
          "text": [
            "c:\\laragon\\www\\final-project\\.venv\\lib\\site-packages\\keras\\src\\engine\\training.py:3103: UserWarning: You are saving your model as an HDF5 file via `model.save()`. This file format is considered legacy. We recommend using instead the native Keras format, e.g. `model.save('my_model.keras')`.\n",
            "  saving_api.save_model(\n"
          ]
        }
      ],
      "source": [
        "if __name__ == '__main__':\n",
        "    model.save(\"model_1.h5\")"
      ]
    },
    {
      "cell_type": "code",
      "execution_count": 46,
      "metadata": {},
      "outputs": [
        {
          "data": {
            "text/plain": [
              "array([[0.07998316, 0.5137577 , 0.46047009, 0.53489057, 0.45048286,\n",
              "        0.24811156, 0.30637708, 0.5637931 , 0.17438692],\n",
              "       [0.0841928 , 0.60287474, 0.4508547 , 0.51565414, 0.45427002,\n",
              "        0.21731551, 0.31192237, 0.52586207, 0.17801998],\n",
              "       [0.10713534, 0.57494867, 0.48044872, 0.58504269, 0.45427002,\n",
              "        0.23881464, 0.31238447, 0.54827586, 0.17801998],\n",
              "       [0.08545569, 0.53264887, 0.50032051, 0.60692904, 0.47850786,\n",
              "        0.21441023, 0.35628466, 0.53793103, 0.16257947],\n",
              "       [0.10313618, 0.62710472, 0.50277778, 0.61644911, 0.45427002,\n",
              "        0.22545032, 0.31839187, 0.54827586, 0.19346049],\n",
              "       [0.11681751, 0.56303901, 0.50737179, 0.39179507, 0.45427002,\n",
              "        0.23881464, 0.32994455, 0.54827586, 0.18165304],\n",
              "       [0.10124184, 0.54291581, 0.52777778, 0.56914319, 0.45427002,\n",
              "        0.22545032, 0.3525878 , 0.54827586, 0.17166213],\n",
              "       [0.10608293, 0.60287474, 0.54722222, 0.57513004, 0.45427002,\n",
              "        0.22545032, 0.36414048, 0.55862069, 0.18165304],\n",
              "       [0.11681751, 0.55934292, 0.56762821, 0.57355972, 0.45427002,\n",
              "        0.23881464, 0.36367837, 0.54827586, 0.16984559],\n",
              "       [0.12797306, 0.56960986, 0.53867521, 0.57169497, 0.45427002,\n",
              "        0.23881464, 0.37569316, 0.54827586, 0.17075386]])"
            ]
          },
          "execution_count": 46,
          "metadata": {},
          "output_type": "execute_result"
        }
      ],
      "source": [
        "valX[0]"
      ]
    },
    {
      "cell_type": "code",
      "execution_count": null,
      "metadata": {},
      "outputs": [],
      "source": []
    },
    {
      "cell_type": "code",
      "execution_count": 38,
      "metadata": {
        "colab": {
          "base_uri": "https://localhost:8080/",
          "height": 564
        },
        "id": "DJTwxY-D2e_2",
        "outputId": "8bb452bd-2ade-400e-82c9-6d7d46fa458f"
      },
      "outputs": [
        {
          "data": {
            "image/png": "[encoded data removed]",
            "text/plain": [
              "<Figure size 2000x600 with 1 Axes>"
            ]
          },
          "metadata": {},
          "output_type": "display_data"
        }
      ],
      "source": [
        "# Plot nilai prediksi dan nilai sebenarnya\n",
        "\n",
        "plt.figure(figsize=(20, 6))\n",
        "plt.plot(testY, label='True Values', color='blue')\n",
        "plt.plot(predictions, label='Predictions', color='red')\n",
        "\n",
        "plt.xlabel('Tanggal', labelpad=30)\n",
        "plt.ylabel('Harga', labelpad=30)\n",
        "plt.title('True Values vs Predictions', pad=30)\n",
        "plt.legend()\n",
        "\n",
        "plt.show()"
      ]
    },
    {
      "cell_type": "code",
      "execution_count": 217,
      "metadata": {
        "colab": {
          "base_uri": "https://localhost:8080/"
        },
        "id": "pPfnSwXK6OYa",
        "outputId": "f7384cd1-0251-4303-dfa5-a12b55d6caef"
      },
      "outputs": [
        {
          "name": "stdout",
          "output_type": "stream",
          "text": [
            "Epoch 1/10\n",
            "39/39 [==============================] - 3s 3ms/step - loss: 0.0416\n",
            "Epoch 2/10\n",
            "39/39 [==============================] - 0s 6ms/step - loss: 0.0334\n",
            "Epoch 3/10\n",
            "39/39 [==============================] - 0s 4ms/step - loss: 0.0325\n",
            "Epoch 4/10\n",
            "39/39 [==============================] - 0s 3ms/step - loss: 0.0319\n",
            "Epoch 5/10\n",
            "39/39 [==============================] - 0s 3ms/step - loss: 0.0323\n",
            "Epoch 6/10\n",
            "39/39 [==============================] - 0s 3ms/step - loss: 0.0317\n",
            "Epoch 7/10\n",
            "39/39 [==============================] - 0s 5ms/step - loss: 0.0318\n",
            "Epoch 8/10\n",
            "39/39 [==============================] - 0s 6ms/step - loss: 0.0317\n",
            "Epoch 9/10\n",
            "39/39 [==============================] - 0s 3ms/step - loss: 0.0316\n",
            "Epoch 10/10\n",
            "39/39 [==============================] - 0s 6ms/step - loss: 0.0317\n",
            "11/11 [==============================] - 0s 2ms/step\n",
            "Loss (ANN): 0.0450018000717063\n"
          ]
        }
      ],
      "source": [
        "# Build the ANN model\n",
        "model_ann = Sequential()\n",
        "model_ann.add(Dense(units=64, activation='relu'))\n",
        "model_ann.add(Dense(units=32, activation='relu'))  # Hidden layer\n",
        "model_ann.add(Dense(units=1))  # Output layer\n",
        "\n",
        "# Compile the ANN model\n",
        "model_ann.compile(optimizer='adam', loss='mean_squared_error')\n",
        "\n",
        "# Train the ANN model\n",
        "model_ann.fit(trainX, trainY, epochs=10, batch_size=32)\n",
        "\n",
        "# Predict on the test set\n",
        "predictions_ann = model_ann.predict(testX)\n",
        "\n",
        "# Evaluate the ANN model\n",
        "mse_ann = np.mean((predictions_ann - testY) ** 2)\n",
        "print(\"Loss (ANN):\", mse_ann)"
      ]
    },
    {
      "cell_type": "code",
      "execution_count": null,
      "metadata": {},
      "outputs": [],
      "source": []
    },
    {
      "cell_type": "code",
      "execution_count": 225,
      "metadata": {},
      "outputs": [],
      "source": [
        "predictions_inverse = np.zeros((predictions.shape[0], 9))\n",
        "predictions_inverse[:,0] = predictions[:,0]"
      ]
    },
    {
      "cell_type": "code",
      "execution_count": 230,
      "metadata": {},
      "outputs": [
        {
          "data": {
            "text/plain": [
              "array([0.21490616, 0.        , 0.        , 0.        , 0.        ,\n",
              "       0.        , 0.        , 0.        , 0.        ])"
            ]
          },
          "execution_count": 230,
          "metadata": {},
          "output_type": "execute_result"
        }
      ],
      "source": [
        "predictions_inverse[0]"
      ]
    },
    {
      "cell_type": "code",
      "execution_count": 232,
      "metadata": {},
      "outputs": [],
      "source": [
        "predictions = scaler.inverse_transform(predictions_inverse)"
      ]
    },
    {
      "cell_type": "code",
      "execution_count": 234,
      "metadata": {},
      "outputs": [
        {
          "data": {
            "text/plain": [
              "array([ 31670.19147456,  20650.        ,  17740.        ,  23040.        ,\n",
              "       114630.        ,  32790.        ,  18360.        ,  10940.        ,\n",
              "        12780.        ])"
            ]
          },
          "execution_count": 234,
          "metadata": {},
          "output_type": "execute_result"
        }
      ],
      "source": []
    }
  ],
  "metadata": {
    "colab": {
      "provenance": []
    },
    "kernelspec": {
      "display_name": "Python 3",
      "name": "python3"
    },
    "language_info": {
      "codemirror_mode": {
        "name": "ipython",
        "version": 3
      },
      "file_extension": ".py",
      "mimetype": "text/x-python",
      "name": "python",
      "nbconvert_exporter": "python",
      "pygments_lexer": "ipython3",
      "version": "3.10.6"
    }
  },
  "nbformat": 4,
  "nbformat_minor": 0
}
